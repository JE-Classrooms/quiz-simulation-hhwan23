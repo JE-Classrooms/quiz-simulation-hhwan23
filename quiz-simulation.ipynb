{
 "cells": [
  {
   "cell_type": "markdown",
   "metadata": {},
   "source": [
    "# Quiz Simulation\n",
    "\n",
    "**Author:**"
   ]
  },
  {
   "cell_type": "markdown",
   "metadata": {},
   "source": [
    "**Exercise 1:** \n",
    "\n",
    "Write a Python program that prints each item and its corresponding type from the following list. Sample List : \n",
    "\n",
    "```datalist = [1452, 11.23, 1+2j, True, 'w3resource', [5, 12], np.array([1,2,3])]```\n",
    "\n",
    "*Hint: don't forget to import numpy*"
   ]
  },
  {
   "cell_type": "code",
   "execution_count": 10,
   "metadata": {},
   "outputs": [
    {
     "name": "stdout",
     "output_type": "stream",
     "text": [
      "data: 1452 type: <class 'int'>\n",
      "data: 11.23 type: <class 'float'>\n",
      "data: (1+2j) type: <class 'complex'>\n",
      "data: True type: <class 'bool'>\n",
      "data: w3resource type: <class 'str'>\n",
      "data: [5, 12] type: <class 'list'>\n",
      "data: [1 2 3] type: <class 'numpy.ndarray'>\n"
     ]
    }
   ],
   "source": [
    "import numpy as np\n",
    "\n",
    "datalist = [1452, 11.23, 1+2j, True, 'w3resource', [5, 12], np.array([1,2,3])]\n",
    "\n",
    "for data in range(7):\n",
    "    print('data:',datalist[data],'type:',type(datalist[data]))"
   ]
  },
  {
   "cell_type": "markdown",
   "metadata": {},
   "source": [
    "**Exercise 2:** \n",
    "\n",
    "Write a Python program to print the Fibonacci series up to the 10th position. \n",
    "\n",
    "*Note:* The Fibonacci Sequence is the series of numbers : 0, 1, 1, 2, 3, 5, 8, 13, 21, ....\n",
    "\n",
    "*Hint:* Every next number is found by adding up the two numbers before it. Start with two variables with the values 0 and 1 and follow the patter by replacing the value of the two variables using a for loop.\n",
    "\n",
    "**Expected Output:** 0 1 1 2 3 5 8 13 21 34"
   ]
  },
  {
   "cell_type": "code",
   "execution_count": 12,
   "metadata": {},
   "outputs": [
    {
     "name": "stdout",
     "output_type": "stream",
     "text": [
      "1\n",
      "1\n",
      "2\n",
      "3\n",
      "5\n",
      "8\n",
      "13\n",
      "21\n",
      "34\n",
      "55\n"
     ]
    }
   ],
   "source": [
    "val1 = 0\n",
    "val2 = 1\n",
    "\n",
    "for n in range (10):\n",
    "    if (n <= 1):\n",
    "        next = n\n",
    "    else:\n",
    "        next = val1 + val2\n",
    "        val2 = val1\n",
    "        val1 = next\n",
    "    print(next)\n"
   ]
  }
 ],
 "metadata": {
  "kernelspec": {
   "display_name": "conda_amazonei_mxnet_p36",
   "language": "python",
   "name": "conda_amazonei_mxnet_p36"
  },
  "language_info": {
   "codemirror_mode": {
    "name": "ipython",
    "version": 3
   },
   "file_extension": ".py",
   "mimetype": "text/x-python",
   "name": "python",
   "nbconvert_exporter": "python",
   "pygments_lexer": "ipython3",
   "version": "3.6.13"
  },
  "vscode": {
   "interpreter": {
    "hash": "11838f79d2aaadbfa3a2adfaf35bacdebdb4e8d9b63957ddf298964812544a76"
   }
  }
 },
 "nbformat": 4,
 "nbformat_minor": 4
}
